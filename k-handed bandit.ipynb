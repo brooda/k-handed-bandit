{
 "cells": [
  {
   "cell_type": "code",
   "execution_count": 6,
   "metadata": {
    "collapsed": true
   },
   "outputs": [],
   "source": [
    "import pandas as pd\n",
    "import numpy as np\n",
    "from scipy import stats\n",
    "import random\n",
    "import matplotlib.pyplot as plt\n",
    "%matplotlib inline"
   ]
  },
  {
   "cell_type": "markdown",
   "metadata": {},
   "source": [
    "# Idea problemu"
   ]
  },
  {
   "cell_type": "markdown",
   "metadata": {},
   "source": [
    "Wyobraźmy sobie, że jesteśmy w kasynie i mamy przed sobą automaty do gry. Takie automaty są popularnie nazywane \"jednorękimi bandytami\". Z których automatów korzystać, by zmaksymalizować swój dochód z wizyty w kasynie? Jako gracze nie wiemy, jakie jest prawdopodobieństwo zdobycia nagrody dla poszczególnych maszyn. Nie wiemy także, jaka nagroda czeka nas w przypadku zdobycia nagrody. O tym, jaka jest nasza nagroda, dowiadujemy się dopiero po jej zdobyciu. Gdyby nagroda była znana, problem byłby banalny - ciągnęlibyśmy za ramię, gdzie nagroda będzie największa. \n",
    "\n",
    "Jest to tzw. problem wielorękiego bandyty (ang. multi-handed bandit). Opisuje on sytuację gry w kasynie (stąd wzięła się jego nazwa), ale nie tylko. Polega on zawsze na tym, że mamy środowisko, w którym mamy do wyboru różne opcje, natomiast nie wiemy, jakie nagrody może nam przynieść wybór poszczególnych opcji. Naszym celem jest zmaksymalizowanie nagrody w długim horyzoncie czasowym poprzez odpowiednie wybieranie opcji. \n",
    "\n",
    "Przykładem problemu, który można sprowadzić do problemu wielorękiego bandyty jest wybór strategii przy leczeniu choroby. Mamy do dyspozycji różne akcje, które możemy zastosować podczas terapii i nie wiemy, które z nich są skuteczne. Chcemy się dowiedzieć, jak najlepiej przeprowadzić terapię, by zmaksymalizować funkcję celu (czyli wyleczyć pacjenta)."
   ]
  },
  {
   "cell_type": "markdown",
   "metadata": {},
   "source": [
    "# Sformalizowanie problemu\n",
    "\n",
    "Chcemy znaleźć, która akcja przynosi największe zyski (i w związku z tym - której akcji należy używać).\n",
    "Dobrym sposobem na oszacowanie wartości akcji jest wyznaczenie średniej nagród z przeszłości dla danej akcji.\n",
    "$$Q_t(a_i) = \\frac{\\sum_{k=0}^{t-1} R_k I_k^i}{\\sum_{k=0}^{t-1} I_k^i}$$\n",
    "gdzie \n",
    "1. $Q_t(a_i)$ to przewidytana wartość nagrody, wyznaczona dla i-tego ramienia w czasie t\n",
    "2. $I_k^i$ = 1, gdy $k$-ta akcja była akcją $a_i$ lub 0 wpp\n",
    "3. $R_k$ to nagroda uzyskana w k-tej akcji."
   ]
  },
  {
   "cell_type": "markdown",
   "metadata": {},
   "source": [
    "## Podstawowy algorytm"
   ]
  },
  {
   "cell_type": "markdown",
   "metadata": {},
   "source": [
    "Opiszę podstawową wersję algorytmu. W dalszej części pracy będę wprowadzał modyfikacje do podstawowego modelu.\n",
    "\n",
    "Dla każdego ramienia a:\n",
    "1. Q(a) = 0\n",
    "2. N(a) = 0 # jest to licznik pociągnięć dla ramienia\n",
    "\n",
    "W pętli wykonujemy następujące kroki:\n",
    "1. Wybierz ramię, które ma największe Q (bazujemy tutaj na przekonaniu, że jeśli do tej pory ramię dswało największe nagrody, to warto za nie ciągnąć w przyszłości\n",
    "2. Zagraj za pomocą ręki j i sprawdź, jaką nagrodę otrzymasz: $R = getRewardFromBandit(j)$ \n",
    "\n",
    "3. Uaktualnij wartość przewidywanej nagrody. Jest tutaj używany pewien trik matematyczny (patrz Sutton, Barto: str 31)\n",
    "\n",
    "$Q(a) = Q(a) + \\frac{1}{N(a)} [R - Q(a)]$"
   ]
  },
  {
   "cell_type": "markdown",
   "metadata": {},
   "source": [
    "## Algorytm epsilon-zachłanny"
   ]
  },
  {
   "cell_type": "markdown",
   "metadata": {},
   "source": [
    "Powyższy algorytm ma pewną poważną wadę. Gdy pociągniemy za wajchę i dostaniemy nagrodę, będziemy sądzili, że jest ona najlepsza, bo dała nam najlepszy wynik (inne wajchy rzeczywiście nic nie dały, ale też i nie mogły nic dać). Przy użyciu takiej zachłannej strategii możemy zatrzymać się w stanie, który daje najlepsze wyniki, ale tylko lokalnie. Być może przy użyciu innej wajchy moglibyśmy zyskać więcej.\n",
    "\n",
    "Dlatego oprócz _eksploatacji_, czyli czerpania zysków z dotychczas znanych rozwiązań ważna jest także _eksploracja_, czyli szukanie rozwiązań, które mogą poprawić nasze zyski długofalowo. \n",
    "\n",
    "_Eksploracja_ polega na losowym wybraniu akcji innej niż ta, której wybór mógłby być sugerowany przez największą wartość oczekiwanej nagrody. \n",
    "\n",
    "Wprowadzamy zatem wpspółczynnik $\\epsilon$ (równy zazwyczaj 0.1). Podczas gry, z prawdopodobieństwem $\\epsilon$ będziemy ciągnąć za losową wajchę. \n",
    "\n",
    "Zatem w tym przypadku, krok algorytmu:\n",
    "1. Wybierz ramię, które ma największe Q (bazujemy tutaj na przekonaniu, że jeśli do tej pory ramię dawało największe nagrody, to warto za nie ciągnąć w przyszłości. \n",
    "\n",
    "Zmieni się na:\n",
    "1. Wybierz ramię, które ma największe Q lub losowo z prawdopodobieństwem $\\epsilon$ - inne ramię"
   ]
  },
  {
   "cell_type": "markdown",
   "metadata": {},
   "source": [
    "## W jaki sposób wyznaczana jest nagroda za pociągnięcie danego ramienia?\n",
    "\n",
    "Każde z ramion otrzyma wartość oczekiwaną, wylosowaną z rozkładu Gaussa o parametrach {mi = 0, sigma = 5}."
   ]
  },
  {
   "cell_type": "code",
   "execution_count": 34,
   "metadata": {
    "collapsed": true
   },
   "outputs": [],
   "source": [
    "mi = 0\n",
    "sigma = 5"
   ]
  },
  {
   "cell_type": "markdown",
   "metadata": {
    "collapsed": true
   },
   "source": [
    "O wielkości otrzymanej nagrody decydują dwa czynniki:\n",
    "1. Prawdopodobieńtwo otrzymania nagrody (czyli w ogóle chodzi o to, czy dostaniemy jakąś nagrodę, czy nie) przy pociągnięciu za dane ramię. Może ono być ustalone na dwa sposoby:\n",
    "    * Arbitralnie dla każdego ramienia prawdopodobieństwo równe 1\n",
    "    * Arbitralnie dla każdego ramienia to samo prawdopodobieństwo (nierówne 1)\n",
    "    * Prawdopobobieństwo różne dla każdego ramienia. \n",
    "\n",
    "2. W przypadku, gdy nagroda będzie, dla pociągniętego ramienia losujemy nagrodę z rozkładu Gaussa z parametrami {mi = wartość oczekiwana dla danej ręki, sigma = 5}. Zakładamy, że nagrody nie będą ujemne (będę \"obcinać do zera\" ujemne wartości). Możliwą modyfikacją przy obliczaniu nagrody jest wykorzystanie funkcji nagrody. Argumentem funkcji nagrody jest wartość wylosowana. Domyślnie - funkcja jest liniowa. Przetestuję także funkcję kwadratową - jako jedną z funkcji wypukłych\n",
    "\n",
    "Wyjaśnienie: W trzecim przypadku wyboru prawdopodobieństwa, prawdopodonieństwa będą dystrybuatną rozkładu o mi=0 w punkcie, będącą wartością oczekiwaną danego ramienia.\n",
    "\n",
    "Przetestuję różne konfiguracje."
   ]
  },
  {
   "cell_type": "markdown",
   "metadata": {},
   "source": [
    "# Implementacja i testy"
   ]
  },
  {
   "cell_type": "markdown",
   "metadata": {},
   "source": [
    "Po wstępie teoretycznym możemy przejść do implementacji i testów. To, co testuję, będę opisywał na bieżąco."
   ]
  },
  {
   "cell_type": "markdown",
   "metadata": {},
   "source": [
    "## Definiujemy liczbę ramion k-rękiego bandyty"
   ]
  },
  {
   "cell_type": "code",
   "execution_count": 103,
   "metadata": {
    "collapsed": true
   },
   "outputs": [],
   "source": [
    "k = 10"
   ]
  },
  {
   "cell_type": "markdown",
   "metadata": {},
   "source": [
    "## Wartości oczekiwane"
   ]
  },
  {
   "cell_type": "code",
   "execution_count": 104,
   "metadata": {},
   "outputs": [],
   "source": [
    "expectedValues = np.random.normal(loc=mi, scale=sigma, size=k)"
   ]
  },
  {
   "cell_type": "code",
   "execution_count": 105,
   "metadata": {
    "scrolled": false
   },
   "outputs": [
    {
     "data": {
      "text/plain": [
       "array([-0.78184249, -3.69118108, -3.77999317,  8.78360564, -3.57578706,\n",
       "       -2.88862668,  2.77948531, -6.49838041,  0.79589239,  1.64154579])"
      ]
     },
     "execution_count": 105,
     "metadata": {},
     "output_type": "execute_result"
    }
   ],
   "source": [
    "expectedValues"
   ]
  },
  {
   "cell_type": "markdown",
   "metadata": {},
   "source": [
    "Prawdopodobieństwa wylosowania nagrody dla trzeciej metody losowania prawdopodobieństwa"
   ]
  },
  {
   "cell_type": "code",
   "execution_count": 106,
   "metadata": {},
   "outputs": [
    {
     "data": {
      "text/plain": [
       "[0.43787128306835188,\n",
       " 0.23018545930480316,\n",
       " 0.22482500760881208,\n",
       " 0.96051732282612701,\n",
       " 0.23725589057034363,\n",
       " 0.28172478548274493,\n",
       " 0.71085938671043447,\n",
       " 0.096856005473772266,\n",
       " 0.56323587040232548,\n",
       " 0.62866103949338403]"
      ]
     },
     "execution_count": 106,
     "metadata": {},
     "output_type": "execute_result"
    }
   ],
   "source": [
    "probabilities = [stats.norm.cdf(x, mi, sigma) for x in expectedValues]\n",
    "probabilities"
   ]
  },
  {
   "cell_type": "markdown",
   "metadata": {},
   "source": [
    "## Dostępne funkcje nagrody "
   ]
  },
  {
   "cell_type": "code",
   "execution_count": 107,
   "metadata": {
    "collapsed": true
   },
   "outputs": [],
   "source": [
    "functions = {\n",
    "    \"lin\" : lambda x : x,\n",
    "    \"sqrt\": lambda x : x * x\n",
    "}"
   ]
  },
  {
   "cell_type": "markdown",
   "metadata": {},
   "source": [
    "### Poniższa funkcja zwraca nagrodę od j-tego bandyty, wykorzystując podaną funkcję nagrody i wektor prawdopodobieństwa"
   ]
  },
  {
   "cell_type": "code",
   "execution_count": 115,
   "metadata": {
    "collapsed": true
   },
   "outputs": [],
   "source": [
    "def getRewardFromBandit(j, fun, probabilities):\n",
    "    rand = np.random.rand()\n",
    "\n",
    "    if rand < probabilities[j] :\n",
    "        return max(fun(np.random.normal(loc = expectedValues[j], scale = sigma)), 0)\n",
    "    else:\n",
    "        return 0"
   ]
  },
  {
   "cell_type": "markdown",
   "metadata": {},
   "source": [
    "### Poniższa funkcja implementuje algorytm bandyty. Zwraca sumaryczne wartości nagród"
   ]
  },
  {
   "cell_type": "code",
   "execution_count": 136,
   "metadata": {},
   "outputs": [],
   "source": [
    "def playBandit(eps, steps, probabilities, fun = functions[\"lin\"]):\n",
    "\n",
    "    Q = np.zeros(k)\n",
    "    N = np.zeros(k)\n",
    "\n",
    "    Qs = []\n",
    "\n",
    "    # Uruchamiamy cały algorytm wiele razy zmieniając ilość kroków w algorytmie. Suma nagród powinna się zmieniać.\n",
    "    for step in range(1, steps):\n",
    "        for i in range(step):\n",
    "            # Wybierzmy j - indeks ręki, za którą pociągniemy    \n",
    "            rand = np.random.rand()\n",
    "            if rand <= eps:\n",
    "                j = np.random.randint(k)\n",
    "            else:\n",
    "                maxBandits = np.where(Q == np.max(Q))[0]\n",
    "                j = random.choice(maxBandits)\n",
    "\n",
    "            R = getRewardFromBandit(j, fun, probabilities)\n",
    "\n",
    "            N[j] = N[j] + 1\n",
    "            Q[j] = Q[j] + (1/N[j]) * (R - Q[j])\n",
    "\n",
    "        # Dodajemy sumę nagród\n",
    "        Qs.append(sum(Q))\n",
    "\n",
    "    return (range(1, steps), Qs)"
   ]
  },
  {
   "cell_type": "markdown",
   "metadata": {},
   "source": [
    "# Test 1: Porównanie algorytmów: zachłannego i eps-zachłannego (dla eps = 0.05 i eps = 0.1"
   ]
  },
  {
   "cell_type": "code",
   "execution_count": 117,
   "metadata": {
    "collapsed": true
   },
   "outputs": [],
   "source": [
    "greedy = playBandit(0, 1000, probabilities)\n",
    "eps005 = playBandit(0.05, 1000, probabilities)\n",
    "eps01 = playBandit(0.1, 1000, probabilities)"
   ]
  },
  {
   "cell_type": "code",
   "execution_count": 123,
   "metadata": {
    "scrolled": true
   },
   "outputs": [
    {
     "data": {
      "image/png": "[encoded data removed]",
      "text/plain": [
       "<matplotlib.figure.Figure at 0x7fcdfc6af0b8>"
      ]
     },
     "metadata": {},
     "output_type": "display_data"
    }
   ],
   "source": [
    "greedyPlot = plt.scatter(greedy[0], greedy[1])\n",
    "eps005Plot = plt.scatter(eps005[0], eps005[1])\n",
    "eps01Plot  = plt.scatter(eps01[0], eps01[1])\n",
    "\n",
    "legend = plt.legend([greedyPlot, eps005Plot, eps01Plot], ['Greedy', 'Epsilon-greedy : 0.05', 'Epsilon-greedy : 0.1'])"
   ]
  },
  {
   "cell_type": "markdown",
   "metadata": {},
   "source": [
    "Spójrzmy na początek wykresu (pomoże to w interpretacji wyników):"
   ]
  },
  {
   "cell_type": "code",
   "execution_count": 124,
   "metadata": {},
   "outputs": [
    {
     "data": {
      "image/png": "[encoded data removed]",
      "text/plain": [
       "<matplotlib.figure.Figure at 0x7fcdfc795358>"
      ]
     },
     "metadata": {},
     "output_type": "display_data"
    }
   ],
   "source": [
    "greedyPlot = plt.scatter(greedy[0][0:200], greedy[1][0:200])\n",
    "eps005Plot = plt.scatter(eps005[0][0:200], eps005[1][0:200])\n",
    "eps01Plot  = plt.scatter(eps01[0][0:200], eps01[1][0:200])\n",
    "\n",
    "legend = plt.legend([greedyPlot, eps005Plot, eps01Plot], ['Greedy', 'Epsilon-greedy : 0.05', 'Epsilon-greedy : 0.1'])"
   ]
  },
  {
   "cell_type": "markdown",
   "metadata": {},
   "source": [
    "Zachłanny wybór akcji nie jest dobrym wyjściem. Co prawda - w pierwszych krokach strategia zachłanna daje dobre wyniki. Natomiast korzyści płynące z eksploracji są dobrze widoczne w ujęciu długoterminowym. Większy współczynnik eksploracji wydaje się dawać lepsze wyniki, natomiast warto sprawdzić, czy przy dużych wartościach wyniki zaczną się pogarszać."
   ]
  },
  {
   "cell_type": "code",
   "execution_count": 120,
   "metadata": {
    "scrolled": true
   },
   "outputs": [
    {
     "data": {
      "image/png": "[encoded data removed]",
      "text/plain": [
       "<matplotlib.figure.Figure at 0x7fce04eedf60>"
      ]
     },
     "metadata": {},
     "output_type": "display_data"
    }
   ],
   "source": [
    "eps010 = playBandit(0.1, 1000, probabilities)\n",
    "eps015 = playBandit(0.15, 1000, probabilities)\n",
    "eps020 = playBandit(0.2, 1000, probabilities)\n",
    "eps025 = playBandit(0.25, 1000, probabilities)\n",
    "eps050 = playBandit(0.5, 1000, probabilities)\n",
    "\n",
    "eps010Plot  = plt.scatter(eps010[0], eps010[1])\n",
    "eps015Plot  = plt.scatter(eps015[0], eps015[1])\n",
    "eps020Plot  = plt.scatter(eps020[0], eps020[1])\n",
    "eps025Plot  = plt.scatter(eps025[0], eps025[1])\n",
    "eps050Plot  = plt.scatter(eps050[0], eps050[1])\n",
    "\n",
    "legend = plt.legend([eps010Plot, eps015Plot,eps020Plot,eps025Plot,eps050Plot], \n",
    "                    ['Epsilon-greedy : 0.1','Epsilon-greedy : 0.15', 'Epsilon-greedy : 0.2', 'Epsilon-greedy : 0.25', 'Epsilon-greedy : 0.5'])"
   ]
  },
  {
   "cell_type": "markdown",
   "metadata": {},
   "source": [
    "Z wykresu wynika, że efektywność nie zmniejsza się znacząco"
   ]
  },
  {
   "cell_type": "markdown",
   "metadata": {},
   "source": [
    "# Test 2: Porównanie dwóch algorytmów eps-zachłannych (z tym samym eps), ale z innymi prawdopodobieństwami nagrody"
   ]
  },
  {
   "cell_type": "markdown",
   "metadata": {},
   "source": [
    "Przewidujemy, że tam, gdzie wyższe prawdopodobieństwo uzyskania nagrody, tam wyższa suma nagród (a co za tym idzie - także i średnia nagród). Ponadto, jeśli prawdopodobieństwa mają się do siebie jak 2 do 1, to nagrody też powinny być w takim stosunku do siebie."
   ]
  },
  {
   "cell_type": "code",
   "execution_count": 133,
   "metadata": {},
   "outputs": [
    {
     "data": {
      "image/png": "[encoded data removed]",
      "text/plain": [
       "<matplotlib.figure.Figure at 0x7fcdfc57fe80>"
      ]
     },
     "metadata": {},
     "output_type": "display_data"
    }
   ],
   "source": [
    "probFull = playBandit(0.05, 1000, np.repeat(1, k))\n",
    "probHalf = playBandit(0.05, 1000, np.repeat(1/2, k))\n",
    "\n",
    "probFullPlot  = plt.scatter(probFull[0], probFull[1])\n",
    "probHalfPlot  = plt.scatter(probHalf[0], probHalf[1])\n",
    "\n",
    "legend = plt.legend([probFullPlot, probHalfPlot], ['Probability = 1', 'Probability = 1/2'])"
   ]
  },
  {
   "cell_type": "markdown",
   "metadata": {},
   "source": [
    "Wyniki zgadzają się z przewidywaniami"
   ]
  },
  {
   "cell_type": "markdown",
   "metadata": {},
   "source": [
    "# Test 3: Porównanie wyników dla różnych funkcji nagrody"
   ]
  },
  {
   "cell_type": "markdown",
   "metadata": {},
   "source": [
    "Spodziewamy się, że w przypadku użycia funkcji kwadratowej do obliczania nagrody, wartości nagród będą dużo większe (mniej więcej: kwadratowo większe). \n",
    "\n",
    "Tak się dzieje w praktyce:"
   ]
  },
  {
   "cell_type": "code",
   "execution_count": 137,
   "metadata": {},
   "outputs": [
    {
     "data": {
      "image/png": "[encoded data removed]",
      "text/plain": [
       "<matplotlib.figure.Figure at 0x7fce0517b390>"
      ]
     },
     "metadata": {},
     "output_type": "display_data"
    }
   ],
   "source": [
    "linear = playBandit(0.05, 1000, np.repeat(1, k), fun=functions[\"lin\"])\n",
    "square = playBandit(0.05, 1000, np.repeat(1, k), fun=functions[\"sqrt\"])\n",
    "\n",
    "linearPlot  = plt.scatter(linear[0], linear[1])\n",
    "squarePlot  = plt.scatter(square[0], square[1])\n",
    "\n",
    "legend = plt.legend([linearPlot, squarePlot], ['linear function', 'square function'])"
   ]
  },
  {
   "cell_type": "markdown",
   "metadata": {
    "collapsed": true
   },
   "source": [
    "# Modyfikacje metody"
   ]
  },
  {
   "cell_type": "markdown",
   "metadata": {},
   "source": [
    "Problem wielorękiego bandyty można rozszerzać na wiele sposobów. Opiszę i zaimplementuję dwa z nich."
   ]
  },
  {
   "cell_type": "markdown",
   "metadata": {},
   "source": [
    "## Problem niestacjonarny"
   ]
  },
  {
   "cell_type": "markdown",
   "metadata": {},
   "source": [
    "Do tej pory nie zakładaliśmy, że wartości oczekiwane nagród (i rozkłady tych nagród) mogą się zmienać podczas gry. Był to tak zwany problem stacjonarny. \n",
    "\n",
    "W problemie niestacjonarnym rozkład może się zmieniać. Dlatego powinniśmy wprowadzić mechanizm, który pozwoliłby na premiowanie niedawno wykonanych akcji (są one najbardziej aktualne, więc i najbardziej miarodajne). Użycie średniej arytmetycznej do obliczania wartości stanów jest złym pomysłem, bo premiuje wszystkie akcje jednakowo.\n",
    "\n",
    "Możemy zmodyfikować wzór służący do obliczania wartości stanów w sposób następujący:\n",
    "\n",
    "$$Q_{t+1}=\\alpha R_t + (1 - \\alpha)Q_t$$\n",
    "gdzie $\\alpha \\in (0,1\\rbrack$ - stała określająca wpływ najnowszej nagrody na oszacowanie akcji"
   ]
  },
  {
   "cell_type": "code",
   "execution_count": 143,
   "metadata": {},
   "outputs": [],
   "source": [
    "def playBanditAlfa(eps, steps, probabilities, fun = functions[\"lin\"], alfa = 0.2):\n",
    "\n",
    "    Q = np.zeros(k)\n",
    "    N = np.zeros(k)\n",
    "\n",
    "    Qs = []\n",
    "\n",
    "    # Uruchamiamy cały algorytm wiele razy zmieniając ilość kroków w algorytmie. Suma nagród powinna się zmieniać.\n",
    "    for step in range(1, steps):\n",
    "        for i in range(step):\n",
    "            # Wybierzmy j - indeks ręki, za którą pociągniemy    \n",
    "            rand = np.random.rand()\n",
    "            if rand <= eps:\n",
    "                j = np.random.randint(k)\n",
    "            else:\n",
    "                maxBandits = np.where(Q == np.max(Q))[0]\n",
    "                j = random.choice(maxBandits)\n",
    "\n",
    "            R = getRewardFromBandit(j, fun, probabilities)\n",
    "\n",
    "            N[j] = N[j] + 1\n",
    "            Q[j] = Q[j] * (1-alfa) + R * alfa\n",
    "\n",
    "        # Dodajemy sumę nagród\n",
    "        Qs.append(sum(Q))\n",
    "\n",
    "    return (range(1, steps), Qs)"
   ]
  },
  {
   "cell_type": "markdown",
   "metadata": {},
   "source": [
    "Nasz obecny problem jest nadal stacjonarny, rozkłady prawdopodobieństwa nie zmieniają się. Sprawdźmy, w jaki sposób algorytm przeznaczony do rozwiązywania problemów niestacjonarny poradzi sobie na problemie stacjonarnym:"
   ]
  },
  {
   "cell_type": "code",
   "execution_count": 144,
   "metadata": {},
   "outputs": [
    {
     "data": {
      "image/png": "[encoded data removed]",
      "text/plain": [
       "<matplotlib.figure.Figure at 0x7fce049988d0>"
      ]
     },
     "metadata": {},
     "output_type": "display_data"
    }
   ],
   "source": [
    "stationary = playBandit(0.05, 1000, probabilities)\n",
    "nonStationary = playBanditAlfa(0.05, 1000, probabilities, alfa =0.2)\n",
    "\n",
    "stationaryPlot  = plt.scatter(stationary[0], stationary[1])\n",
    "nonStationaryPlot  = plt.scatter(nonStationary[0], nonStationary[1])\n",
    "\n",
    "legend = plt.legend([stationaryPlot, nonStationaryPlot], ['stationary', 'non stationary'])"
   ]
  },
  {
   "cell_type": "markdown",
   "metadata": {},
   "source": [
    "Algorytm niestacjonarny działa źle, jego wyniki cały czas się wachają.\n",
    "\n",
    "W wersji podstawowej, algorytm eksploatuje najlepszą akcję. W przypadku niestacjonarnym - algorytm \"zapomina\", jaka była najlepsza akcja. Ten algorytm nie jest odporny na to, że w pewnym momencie akcja, która była do tej pory najlepsza da małą nagrodę. Będzie interesowało go to, że nagroda jest mała, a nie to, że historycznie akcja ta dawała największe nagrody, bo \"zapomina\" o tym."
   ]
  },
  {
   "cell_type": "markdown",
   "metadata": {},
   "source": [
    "## Inna interpretacja funkcji nagrody\n",
    "\n",
    "W innej interpretacji problemu, wartości prawdopodobieństwa wystąpienia dla ramion bierzemy tak, jak w opcji trzeciej, to znaczy: prawdopobobieństwo różne dla każdego ramienia, prawdopodobieństwo jest dystrybuantą w punkcie, będącym wartością oczekiwaną. \n",
    "\n",
    "Zupełnie inna jest interpretacja wartości funkcji nagrody. Wielkość nagrody będzie zależała tylko od ilości pociągnięć za ramiona. Funkcje nagrody nadal będą liniowe lub kwadratowe. \n",
    "\n",
    "Można różnie interpretować ilość pociągnięć za ramiona:\n",
    "1. Ilość użyć wszystkich ramion w sumie - licznik użyć jest globalny\n",
    "2. Ilość użyć poszeczgólnych ramion - licznik jest per ramiono.\n",
    "\n",
    "Przetestuję obie opcje."
   ]
  },
  {
   "cell_type": "code",
   "execution_count": 152,
   "metadata": {
    "collapsed": true
   },
   "outputs": [],
   "source": [
    "def getRewardFromBandit2(j, fun, probabilities, N, isCounterGlobal = True):\n",
    "    rand = np.random.rand()\n",
    "    \n",
    "    if rand < probabilities[j] :\n",
    "        if isCounterGlobal:\n",
    "            arg = np.sum(N)\n",
    "        else:\n",
    "            arg = N[j]\n",
    "            \n",
    "        return fun(arg)\n",
    "    else:\n",
    "        return 0"
   ]
  },
  {
   "cell_type": "code",
   "execution_count": 153,
   "metadata": {
    "collapsed": true
   },
   "outputs": [],
   "source": [
    "def playBandit2(eps, steps, probabilities, fun = functions[\"lin\"], isCounterGlobal = True):\n",
    "\n",
    "    Q = np.zeros(k)\n",
    "    N = np.zeros(k)\n",
    "\n",
    "    Qs = []\n",
    "\n",
    "    # Uruchamiamy cały algorytm wiele razy zmieniając ilość kroków w algorytmie. Suma nagród powinna się zmieniać.\n",
    "    for step in range(1, steps):\n",
    "        for i in range(step):\n",
    "            # Wybierzmy j - indeks ręki, za którą pociągniemy    \n",
    "            rand = np.random.rand()\n",
    "            if rand <= eps:\n",
    "                j = np.random.randint(k)\n",
    "            else:\n",
    "                maxBandits = np.where(Q == np.max(Q))[0]\n",
    "                j = random.choice(maxBandits)\n",
    "\n",
    "            R = getRewardFromBandit2(j, fun, probabilities, N, isCounterGlobal)\n",
    "\n",
    "            N[j] = N[j] + 1\n",
    "            Q[j] = Q[j] + (1/N[j]) * (R - Q[j])\n",
    "\n",
    "        # Dodajemy sumę nagród\n",
    "        Qs.append(sum(Q))\n",
    "\n",
    "    return (range(1, steps), Qs)"
   ]
  },
  {
   "cell_type": "code",
   "execution_count": 155,
   "metadata": {},
   "outputs": [
    {
     "data": {
      "image/png": "[encoded data removed]",
      "text/plain": [
       "<matplotlib.figure.Figure at 0x7fce050e9780>"
      ]
     },
     "metadata": {},
     "output_type": "display_data"
    }
   ],
   "source": [
    "globalCounter = playBandit2(0.05, 1000, probabilities, isCounterGlobal=True)\n",
    "localCounter = playBandit2(0.05, 1000, probabilities, isCounterGlobal=False)\n",
    "\n",
    "globalCounterPlot  = plt.scatter(globalCounter[0], globalCounter[1])\n",
    "localCounterPlot  = plt.scatter(localCounter[0], localCounter[1])\n",
    "\n",
    "legend = plt.legend([globalCounterPlot, localCounterPlot], ['global counter', 'local counter'])"
   ]
  },
  {
   "cell_type": "markdown",
   "metadata": {},
   "source": [
    "Konsekwencja zmiany interpretacji licznika (globalny / lokalny) była dość łatwa do przewidzenia. Licznik globalny zawsze będzie niemniejszy niż lokalny. Skoro nagroda zależy od licznika, to wartość nagrody będzie stale wzrastała."
   ]
  },
  {
   "cell_type": "markdown",
   "metadata": {},
   "source": [
    "Taka interpretacja jest dość dziwna, gdyż zakłada, że nagrody rosną w nieskończoność. Natomiast także przy takiej interpretacji można zbadać wpływ epsilon-zachłanności: "
   ]
  },
  {
   "cell_type": "code",
   "execution_count": 157,
   "metadata": {},
   "outputs": [
    {
     "data": {
      "image/png": "[encoded data removed]",
      "text/plain": [
       "<matplotlib.figure.Figure at 0x7fce04702438>"
      ]
     },
     "metadata": {},
     "output_type": "display_data"
    }
   ],
   "source": [
    "greedy = playBandit2(0.00, 1000, probabilities, isCounterGlobal=True)\n",
    "eps = playBandit2(0.05, 1000, probabilities, isCounterGlobal=True)\n",
    "\n",
    "greedyPlot  = plt.scatter(greedy[0], greedy[1])\n",
    "epsPlot  = plt.scatter(eps[0], eps[1])\n",
    "\n",
    "legend = plt.legend([greedyPlot, epsPlot], ['greedy', 'eps-greedy'])"
   ]
  },
  {
   "cell_type": "markdown",
   "metadata": {},
   "source": [
    "Oczywiście, nagrody rosną szybciej w przypadku użycia strategii epsilon-zachłannej."
   ]
  },
  {
   "cell_type": "code",
   "execution_count": null,
   "metadata": {
    "collapsed": true
   },
   "outputs": [],
   "source": []
  }
 ],
 "metadata": {
  "kernelspec": {
   "display_name": "Python 3",
   "language": "python",
   "name": "python3"
  },
  "language_info": {
   "codemirror_mode": {
    "name": "ipython",
    "version": 3
   },
   "file_extension": ".py",
   "mimetype": "text/x-python",
   "name": "python",
   "nbconvert_exporter": "python",
   "pygments_lexer": "ipython3",
   "version": "3.6.3"
  }
 },
 "nbformat": 4,
 "nbformat_minor": 2
}
